{
 "cells": [
  {
   "cell_type": "code",
   "execution_count": 361,
   "metadata": {},
   "outputs": [],
   "source": [
    "from collections import Counter\n",
    "import json\n",
    "import requests, sys, os\n",
    "import time\n",
    "import xmltodict\n",
    "\n",
    "import matplotlib.pyplot as plt\n",
    "import pandas as pd\n",
    "import numpy as np\n",
    "import seaborn as sns\n",
    "from tqdm import tqdm"
   ]
  },
  {
   "cell_type": "code",
   "execution_count": 389,
   "metadata": {},
   "outputs": [
    {
     "name": "stdout",
     "output_type": "stream",
     "text": [
      "Number of converters: 294\n",
      "Number of non-converters: 63\n",
      "\n"
     ]
    }
   ],
   "source": [
    "df = pd.read_csv(\"results/cnv_phenotypes.csv\")\n",
    "df.dropna(subset=[\"Protein_coding_genes\"], inplace=True)\n",
    "df.reset_index(drop=True, inplace=True)\n",
    "df[\"Start\"] = df[\"Start\"].astype(int)\n",
    "df[\"End\"] = df[\"End\"].astype(int)\n",
    "df[\"CNV_length\"] = df[\"End\"] - df[\"Start\"]\n",
    "\n",
    "converters = [\"FEP\", \"Converter\"]\n",
    "non_converters = [\"Non_converter\"]\n",
    "\n",
    "# Drop UHR and NUHR\n",
    "df = df[df[\"Phenotype\"].isin(converters + non_converters)]\n",
    "\n",
    "print(f\"\"\"Number of converters: {len(df[df['Phenotype'].isin(converters)]['ID_WGS'].unique())}\"\"\")\n",
    "print(f\"\"\"Number of non-converters: {len(df[df['Phenotype'].isin(non_converters)]['ID_WGS'].unique())}\\n\"\"\")"
   ]
  },
  {
   "cell_type": "markdown",
   "metadata": {},
   "source": [
    "## DEL vs DUP between FEP+CONV and NON_CONV"
   ]
  },
  {
   "cell_type": "code",
   "execution_count": 390,
   "metadata": {},
   "outputs": [
    {
     "data": {
      "image/png": "[encoded data removed]",
      "text/plain": [
       "<Figure size 640x480 with 1 Axes>"
      ]
     },
     "metadata": {},
     "output_type": "display_data"
    }
   ],
   "source": [
    "conv_del = sum((df[\"Type\"] == \"DEL\") & df[\"Phenotype\"].isin(converters)) / len(df[df[\"Phenotype\"].isin(converters)])\n",
    "conv_dup = sum((df[\"Type\"] == \"DUP\") & (df[\"Phenotype\"].isin(converters))) / len(df[df[\"Phenotype\"].isin(converters)])\n",
    "non_conv_del = sum((df[\"Type\"] == \"DEL\") & (df[\"Phenotype\"].isin(non_converters))) / len(df[df[\"Phenotype\"].isin(non_converters)])\n",
    "non_conv_dup = sum((df[\"Type\"] == \"DUP\") & (df[\"Phenotype\"].isin(non_converters))) / len(df[df[\"Phenotype\"].isin(non_converters)])\n",
    "\n",
    "conv_counts = [conv_del, conv_dup]\n",
    "non_conv_counts = [non_conv_del, non_conv_dup]\n",
    "categories = [\"DEL\", \"DUP\"]\n",
    "width = 0.35  \n",
    "\n",
    "fig, ax = plt.subplots()\n",
    "conv_bars = ax.bar(np.arange(len(categories)) - width/2, conv_counts, width, label=\"Conv\", color=\"red\", alpha=0.5)\n",
    "non_conv_bars = ax.bar(np.arange(len(categories)) + width/2, non_conv_counts, width, label=\"Non-Conv\", color=\"blue\", alpha=0.5)\n",
    "\n",
    "ax.set_xlabel(\"Type\")\n",
    "ax.set_ylabel(\"Frequency\")\n",
    "ax.set_title(\"Type of CNV in converters and non-converters\")\n",
    "ax.set_xticks(np.arange(len(categories)))\n",
    "ax.set_xticklabels(categories)\n",
    "ax.legend()\n",
    "\n",
    "plt.show()\n"
   ]
  },
  {
   "cell_type": "code",
   "execution_count": 337,
   "metadata": {},
   "outputs": [
    {
     "name": "stdout",
     "output_type": "stream",
     "text": [
      "Number of DEL in converters: 6552\n",
      "Number of DUP in converters: 7381\n",
      "Number of DEL in non-converters: 1444\n",
      "Number of DUP in non-converters: 1611\n"
     ]
    }
   ],
   "source": [
    "print(f\"\"\"Number of DEL in converters: {sum((df[\"Type\"] == \"DEL\") & (df[\"Phenotype\"].isin(converters)))}\"\"\")\n",
    "print(f\"\"\"Number of DUP in converters: {sum((df[\"Type\"] == \"DUP\") & (df[\"Phenotype\"].isin(converters)))}\"\"\")\n",
    "print(f\"\"\"Number of DEL in non-converters: {sum((df[\"Type\"] == \"DEL\") & (df[\"Phenotype\"].isin(non_converters)))}\"\"\")\n",
    "print(f\"\"\"Number of DUP in non-converters: {sum((df[\"Type\"] == \"DUP\") & (df[\"Phenotype\"].isin(non_converters)))}\"\"\")\n",
    "\n"
   ]
  },
  {
   "cell_type": "code",
   "execution_count": 338,
   "metadata": {},
   "outputs": [
    {
     "name": "stdout",
     "output_type": "stream",
     "text": [
      "Average length of DEL in converters: 34671.57264957265\n",
      "Average length of DUP in converters: 60313.793794878744\n",
      "Average length of DEL in non-converters: 35962.13365650969\n",
      "Average length of DUP in non-converters: 145659.94351334576\n"
     ]
    }
   ],
   "source": [
    "print(f\"\"\"Average length of DEL in converters: {df[(df[\"Type\"] == \"DEL\") & (df[\"Phenotype\"].isin(converters))][\"CNV_length\"].mean()}\"\"\")\n",
    "print(f\"\"\"Average length of DUP in converters: {df[(df[\"Type\"] == \"DUP\") & (df[\"Phenotype\"].isin(converters))][\"CNV_length\"].mean()}\"\"\")\n",
    "print(f\"\"\"Average length of DEL in non-converters: {df[(df[\"Type\"] == \"DEL\") & (df[\"Phenotype\"].isin(non_converters))][\"CNV_length\"].mean()}\"\"\")\n",
    "print(f\"\"\"Average length of DUP in non-converters: {df[(df[\"Type\"] == \"DUP\") & (df[\"Phenotype\"].isin(non_converters))][\"CNV_length\"].mean()}\"\"\")\n"
   ]
  },
  {
   "cell_type": "code",
   "execution_count": 339,
   "metadata": {},
   "outputs": [
    {
     "name": "stdout",
     "output_type": "stream",
     "text": [
      "SD of DEL in converters: 48687.960983026314\n",
      "SD of DUP in converters: 88457.87264527484\n",
      "SD of DEL in non-converters: 57826.74212312708\n",
      "SD of DUP in non-converters: 617062.9825658727\n"
     ]
    }
   ],
   "source": [
    "print(f\"\"\"SD of DEL in converters: {df[(df[\"Type\"] == \"DEL\") & (df[\"Phenotype\"].isin(converters))][\"CNV_length\"].std()}\"\"\")\n",
    "print(f\"\"\"SD of DUP in converters: {df[(df[\"Type\"] == \"DUP\") & (df[\"Phenotype\"].isin(converters))][\"CNV_length\"].std()}\"\"\")\n",
    "print(f\"\"\"SD of DEL in non-converters: {df[(df[\"Type\"] == \"DEL\") & (df[\"Phenotype\"].isin(non_converters))][\"CNV_length\"].std()}\"\"\")\n",
    "print(f\"\"\"SD of DUP in non-converters: {df[(df[\"Type\"] == \"DUP\") & (df[\"Phenotype\"].isin(non_converters))][\"CNV_length\"].std()}\"\"\")\n"
   ]
  },
  {
   "cell_type": "code",
   "execution_count": 340,
   "metadata": {},
   "outputs": [
    {
     "name": "stdout",
     "output_type": "stream",
     "text": [
      "Min length of DEL in converters: 9999\n",
      "Min length of DUP in converters: 10007\n",
      "Min length of DEL in non-converters: 10016\n",
      "Min length of DUP in non-converters: 10091\n"
     ]
    }
   ],
   "source": [
    "print(f\"\"\"Min length of DEL in converters: {df[(df[\"Type\"] == \"DEL\") & (df[\"Phenotype\"].isin(converters))][\"CNV_length\"].min()}\"\"\")\n",
    "print(f\"\"\"Min length of DUP in converters: {df[(df[\"Type\"] == \"DUP\") & (df[\"Phenotype\"].isin(converters))][\"CNV_length\"].min()}\"\"\")\n",
    "print(f\"\"\"Min length of DEL in non-converters: {df[(df[\"Type\"] == \"DEL\") & (df[\"Phenotype\"].isin(non_converters))][\"CNV_length\"].min()}\"\"\")\n",
    "print(f\"\"\"Min length of DUP in non-converters: {df[(df[\"Type\"] == \"DUP\") & (df[\"Phenotype\"].isin(non_converters))][\"CNV_length\"].min()}\"\"\")\n"
   ]
  },
  {
   "cell_type": "code",
   "execution_count": 341,
   "metadata": {},
   "outputs": [
    {
     "name": "stdout",
     "output_type": "stream",
     "text": [
      "Max length of DEL in converters: 2379038\n",
      "Max length of DUP in converters: 3404960\n",
      "Max length of DEL in non-converters: 1633562\n",
      "Max length of DUP in non-converters: 11481588\n"
     ]
    }
   ],
   "source": [
    "print(f\"\"\"Max length of DEL in converters: {df[(df[\"Type\"] == \"DEL\") & (df[\"Phenotype\"].isin(converters))][\"CNV_length\"].max()}\"\"\")\n",
    "print(f\"\"\"Max length of DUP in converters: {df[(df[\"Type\"] == \"DUP\") & (df[\"Phenotype\"].isin(converters))][\"CNV_length\"].max()}\"\"\")\n",
    "print(f\"\"\"Max length of DEL in non-converters: {df[(df[\"Type\"] == \"DEL\") & (df[\"Phenotype\"].isin(non_converters))][\"CNV_length\"].max()}\"\"\")\n",
    "print(f\"\"\"Max length of DUP in non-converters: {df[(df[\"Type\"] == \"DUP\") & (df[\"Phenotype\"].isin(non_converters))][\"CNV_length\"].max()}\"\"\")"
   ]
  },
  {
   "cell_type": "markdown",
   "metadata": {},
   "source": [
    "## Pathogenic CNV between FEP+CONV and NON_CONV"
   ]
  },
  {
   "cell_type": "code",
   "execution_count": 283,
   "metadata": {},
   "outputs": [
    {
     "name": "stdout",
     "output_type": "stream",
     "text": [
      "Number of pathogenic or likely pathogenic DEL in converters: 4\n",
      "Number of pathogenic or likely pathogenic DUP in converters: 0\n",
      "Number of pathogenic or likely pathogenic DEL in non_converters: 1\n",
      "Number of pathogenic or likely pathogenic DUP in non_converters: 0\n"
     ]
    }
   ],
   "source": [
    "pathogenic = [\"Pathogenic\", \"Likely_pathogenic\"]\n",
    "\n",
    "print(f\"\"\"Number of pathogenic or likely pathogenic DEL in converters: {sum((df[\"Classification\"].isin(pathogenic)) & (df[\"Type\"] == \"DEL\") & (df[\"Phenotype\"].isin(converters)))}\"\"\")\n",
    "print(f\"\"\"Number of pathogenic or likely pathogenic DUP in converters: {sum((df[\"Classification\"].isin(pathogenic)) & (df[\"Type\"] == \"DUP\") & (df[\"Phenotype\"].isin(converters)))}\"\"\")\n",
    "print(f\"\"\"Number of pathogenic or likely pathogenic DEL in non_converters: {sum((df[\"Classification\"].isin(pathogenic)) & (df[\"Type\"] == \"DEL\") & (df[\"Phenotype\"].isin(non_converters)))}\"\"\")\n",
    "print(f\"\"\"Number of pathogenic or likely pathogenic DUP in non_converters: {sum((df[\"Classification\"].isin(pathogenic)) & (df[\"Type\"] == \"DUP\") & (df[\"Phenotype\"].isin(non_converters)))}\"\"\")"
   ]
  },
  {
   "cell_type": "markdown",
   "metadata": {},
   "source": [
    "## Rares CNV between FEP+CONV and NON_CONV"
   ]
  },
  {
   "cell_type": "code",
   "execution_count": 371,
   "metadata": {},
   "outputs": [],
   "source": [
    "df[\"unique_genes\"] = df['Protein_coding_genes'].str.split(',').apply(set)"
   ]
  },
  {
   "cell_type": "code",
   "execution_count": 372,
   "metadata": {},
   "outputs": [],
   "source": [
    "def is_not_rare_cnv(row, cnv_df):\n",
    "\n",
    "    genes = set(row[\"Protein_coding_genes\"].split(\",\"))\n",
    "    num_shared_genes = cnv_df[\"unique_genes\"].apply(lambda x: len(genes.intersection(x)) > 0).sum()\n",
    "    \n",
    "    return num_shared_genes >= 3 and len(genes) < 3\n",
    "\n",
    "mask_not_rare = df.apply(lambda x: is_not_rare_cnv(x, df), axis=1)"
   ]
  },
  {
   "cell_type": "code",
   "execution_count": 373,
   "metadata": {},
   "outputs": [],
   "source": [
    "df.drop(df[mask_not_rare].index, inplace=True)\n",
    "df.drop(columns=[\"unique_genes\"], inplace=True)\n",
    "df.drop(df[df[\"Classification\"] == \"Benign\"].index, inplace=True)\n",
    "df.reset_index(drop=True, inplace=True)"
   ]
  },
  {
   "cell_type": "code",
   "execution_count": 203,
   "metadata": {},
   "outputs": [],
   "source": [
    "df.to_csv(\"results/cnv_rares.csv\", index=False)"
   ]
  },
  {
   "cell_type": "code",
   "execution_count": 345,
   "metadata": {},
   "outputs": [
    {
     "name": "stdout",
     "output_type": "stream",
     "text": [
      "Number of rares DEL in converters: 370\n",
      "Number of rares DUP in converters: 512\n",
      "Number of rares DEL in non_converters: 76\n",
      "Number of rares DUP in non_converters: 135\n"
     ]
    }
   ],
   "source": [
    "print(f\"\"\"Number of rares DEL in converters: {sum((df[\"Type\"] == \"DEL\") & (df[\"Phenotype\"].isin(converters)))}\"\"\")\n",
    "print(f\"\"\"Number of rares DUP in converters: {sum((df[\"Type\"] == \"DUP\") & (df[\"Phenotype\"].isin(converters)))}\"\"\")\n",
    "print(f\"\"\"Number of rares DEL in non_converters: {sum((df[\"Type\"] == \"DEL\") & (df[\"Phenotype\"].isin(non_converters)))}\"\"\")\n",
    "print(f\"\"\"Number of rares DUP in non_converters: {sum((df[\"Type\"] == \"DUP\") & (df[\"Phenotype\"].isin(non_converters)))}\"\"\")"
   ]
  },
  {
   "cell_type": "code",
   "execution_count": 374,
   "metadata": {},
   "outputs": [],
   "source": [
    "del_conv_mask = (df[\"Type\"] == \"DEL\") & (df[\"Phenotype\"].isin(converters))\n",
    "dup_conv_mask = (df[\"Type\"] == \"DUP\") & (df[\"Phenotype\"].isin(converters))\n",
    "del_non_conv_mask = (df[\"Type\"] == \"DEL\") & (df[\"Phenotype\"].isin(non_converters))\n",
    "dup_non_conv_mask = (df[\"Type\"] == \"DUP\") & (df[\"Phenotype\"].isin(non_converters))"
   ]
  },
  {
   "cell_type": "code",
   "execution_count": 346,
   "metadata": {},
   "outputs": [
    {
     "name": "stdout",
     "output_type": "stream",
     "text": [
      "Average length of rare DEL in converters: 56366.79\n",
      "Average length of rare DUP in converters: 120150.87\n",
      "Average length of rare DEL in non_converters: 75747.37\n",
      "Average length of rare DUP in non_converters: 1072062.67\n"
     ]
    }
   ],
   "source": [
    "print(f\"\"\"Average length of rare DEL in converters: {df[del_conv_mask][\"CNV_length\"].mean():.2f}\"\"\")\n",
    "print(f\"\"\"Average length of rare DUP in converters: {df[dup_conv_mask][\"CNV_length\"].mean():.2f}\"\"\")\n",
    "print(f\"\"\"Average length of rare DEL in non_converters: {df[del_non_conv_mask][\"CNV_length\"].mean():.2f}\"\"\")\n",
    "print(f\"\"\"Average length of rare DUP in non_converters: {df[dup_non_conv_mask][\"CNV_length\"].mean():.2f}\"\"\")\n"
   ]
  },
  {
   "cell_type": "code",
   "execution_count": 347,
   "metadata": {},
   "outputs": [
    {
     "name": "stdout",
     "output_type": "stream",
     "text": [
      "SD length of rare DEL in converters: 155711.55\n",
      "SD length of rare DUP in converters: 236511.07\n",
      "SD length of rare DEL in non_converters: 208722.29\n",
      "SD length of rare DUP in non_converters: 1880214.49\n"
     ]
    }
   ],
   "source": [
    "print(f\"\"\"SD length of rare DEL in converters: {df[del_conv_mask][\"CNV_length\"].std():.2f}\"\"\")\n",
    "print(f\"\"\"SD length of rare DUP in converters: {df[dup_conv_mask][\"CNV_length\"].std():.2f}\"\"\")\n",
    "print(f\"\"\"SD length of rare DEL in non_converters: {df[del_non_conv_mask][\"CNV_length\"].std():.2f}\"\"\")\n",
    "print(f\"\"\"SD length of rare DUP in non_converters: {df[dup_non_conv_mask][\"CNV_length\"].std():.2f}\"\"\")\n"
   ]
  },
  {
   "cell_type": "code",
   "execution_count": 348,
   "metadata": {},
   "outputs": [
    {
     "name": "stdout",
     "output_type": "stream",
     "text": [
      "Min length of rare DEL in converters: 9999.00\n",
      "Min length of rare DUP in converters: 10115.00\n",
      "Min length of rare DEL in non_converters: 10173.00\n",
      "Min length of rare DUP in non_converters: 10765.00\n"
     ]
    }
   ],
   "source": [
    "print(f\"\"\"Min length of rare DEL in converters: {df[del_conv_mask][\"CNV_length\"].min():.2f}\"\"\")\n",
    "print(f\"\"\"Min length of rare DUP in converters: {df[dup_conv_mask][\"CNV_length\"].min():.2f}\"\"\")\n",
    "print(f\"\"\"Min length of rare DEL in non_converters: {df[del_non_conv_mask][\"CNV_length\"].min():.2f}\"\"\")\n",
    "print(f\"\"\"Min length of rare DUP in non_converters: {df[dup_non_conv_mask][\"CNV_length\"].min():.2f}\"\"\")\n"
   ]
  },
  {
   "cell_type": "code",
   "execution_count": 350,
   "metadata": {},
   "outputs": [
    {
     "name": "stdout",
     "output_type": "stream",
     "text": [
      "Max length of rare DEL in converters: 2379038\n",
      "Max length of rare DUP in converters: 3404960\n",
      "Max length of rare DEL in non_converters: 1633562\n",
      "Max length of rare DUP in non_converters: 11481588\n"
     ]
    }
   ],
   "source": [
    "print(f\"\"\"Max length of rare DEL in converters: {df[del_conv_mask][\"CNV_length\"].max():.0f}\"\"\")\n",
    "print(f\"\"\"Max length of rare DUP in converters: {df[dup_conv_mask][\"CNV_length\"].max():.0f}\"\"\")\n",
    "print(f\"\"\"Max length of rare DEL in non_converters: {df[del_non_conv_mask][\"CNV_length\"].max():.0f}\"\"\")\n",
    "print(f\"\"\"Max length of rare DUP in non_converters: {df[dup_non_conv_mask][\"CNV_length\"].max():.0f}\"\"\")\n"
   ]
  },
  {
   "cell_type": "code",
   "execution_count": 224,
   "metadata": {},
   "outputs": [
    {
     "data": {
      "image/png": "[encoded data removed]",
      "text/plain": [
       "<Figure size 640x480 with 1 Axes>"
      ]
     },
     "metadata": {},
     "output_type": "display_data"
    }
   ],
   "source": [
    "hist_converters, bins_converters = np.histogram(length_converters, bins=100)\n",
    "hist_non_converters, bins_non_converters = np.histogram(length_non_converters, bins=100)\n",
    "\n",
    "total_converters = len(length_converters)\n",
    "total_non_converters = len(length_non_converters)\n",
    "proportions_converters = hist_converters / total_converters\n",
    "proportions_non_converters = hist_non_converters / total_non_converters\n",
    "\n",
    "plt.bar(bins_non_converters[:-1], proportions_non_converters, width=(bins_non_converters[1]-bins_non_converters[0]), color=\"b\", alpha=0.5, label=\"Non-Converters\")\n",
    "plt.bar(bins_converters[:-1], proportions_converters, width=(bins_converters[1]-bins_converters[0]), color=\"r\", alpha=0.5, label=\"Converters\")\n",
    "\n",
    "plt.ylim(0, 0.7)  \n",
    "plt.xlabel(\"Length (End - Start)\")\n",
    "plt.ylabel(\"Proportion\")\n",
    "plt.title(\"CNV length distribution in converters and non-converters\")\n",
    "plt.legend()\n",
    "plt.tight_layout()\n",
    "plt.show()\n"
   ]
  },
  {
   "cell_type": "code",
   "execution_count": 354,
   "metadata": {},
   "outputs": [
    {
     "name": "stdout",
     "output_type": "stream",
     "text": [
      "Average length of rares DEL >400 kb in converters: 746497.40\n",
      "Average length of rares DUP >400 kb in converters: 773691.32\n",
      "Average length of rares DEL >400 kb in non_converters: 942566.00\n",
      "Average length of rares DUP >400 kb in non_converters: 2659424.15\n"
     ]
    }
   ],
   "source": [
    "print(f\"\"\"Average length of rares DEL >400 kb in converters: {df[(df[\"CNV_length\"] > 400_000) & (df[\"Type\"] == \"DEL\") & (df[\"Phenotype\"].isin(converters))][\"CNV_length\"].mean():.2f}\"\"\")\n",
    "print(f\"\"\"Average length of rares DUP >400 kb in converters: {df[(df[\"CNV_length\"] > 400_000) & (df[\"Type\"] == \"DUP\") & (df[\"Phenotype\"].isin(converters))][\"CNV_length\"].mean():.2f}\"\"\")\n",
    "print(f\"\"\"Average length of rares DEL >400 kb in non_converters: {df[(df[\"CNV_length\"] > 400_000) & (df[\"Type\"] == \"DEL\") & (df[\"Phenotype\"].isin(non_converters))][\"CNV_length\"].mean():.2f}\"\"\")\n",
    "print(f\"\"\"Average length of rares DUP >400 kb in non_converters: {df[(df[\"CNV_length\"] > 400_000) & (df[\"Type\"] == \"DUP\") & (df[\"Phenotype\"].isin(non_converters))][\"CNV_length\"].mean():.2f}\"\"\")"
   ]
  },
  {
   "cell_type": "code",
   "execution_count": 353,
   "metadata": {},
   "outputs": [
    {
     "name": "stdout",
     "output_type": "stream",
     "text": [
      "SD length of rares DEL >400 kb in converters: 585158.96\n",
      "SD length of rares DUP >400 kb in converters: 543869.84\n",
      "SD length of rares DEL >400 kb in non_converters: 602544.68\n",
      "SD length of rares DUP >400 kb in non_converters: 2257336.69\n"
     ]
    }
   ],
   "source": [
    "print(f\"\"\"SD length of rares DEL >400 kb in converters: {df[(df[\"CNV_length\"] > 400_000) & (df[\"Type\"] == \"DEL\") & (df[\"Phenotype\"].isin(converters))][\"CNV_length\"].std():.2f}\"\"\")\n",
    "print(f\"\"\"SD length of rares DUP >400 kb in converters: {df[(df[\"CNV_length\"] > 400_000) & (df[\"Type\"] == \"DUP\") & (df[\"Phenotype\"].isin(converters))][\"CNV_length\"].std():.2f}\"\"\")\n",
    "print(f\"\"\"SD length of rares DEL >400 kb in non_converters: {df[(df[\"CNV_length\"] > 400_000) & (df[\"Type\"] == \"DEL\") & (df[\"Phenotype\"].isin(non_converters))][\"CNV_length\"].std():.2f}\"\"\")\n",
    "print(f\"\"\"SD length of rares DUP >400 kb in non_converters: {df[(df[\"CNV_length\"] > 400_000) & (df[\"Type\"] == \"DUP\") & (df[\"Phenotype\"].isin(non_converters))][\"CNV_length\"].std():.2f}\"\"\")"
   ]
  },
  {
   "cell_type": "code",
   "execution_count": 355,
   "metadata": {},
   "outputs": [
    {
     "name": "stdout",
     "output_type": "stream",
     "text": [
      "Min length of rares DEL >400 kb in converters: 400384.00\n",
      "Min length of rares DUP >400 kb in converters: 404366.00\n",
      "Min length of rares DEL >400 kb in non_converters: 526687.00\n",
      "Min length of rares DUP >400 kb in non_converters: 429567.00\n"
     ]
    }
   ],
   "source": [
    "print(f\"\"\"Min length of rares DEL >400 kb in converters: {df[(df[\"CNV_length\"] > 400_000) & (df[\"Type\"] == \"DEL\") & (df[\"Phenotype\"].isin(converters))][\"CNV_length\"].min():.2f}\"\"\")\n",
    "print(f\"\"\"Min length of rares DUP >400 kb in converters: {df[(df[\"CNV_length\"] > 400_000) & (df[\"Type\"] == \"DUP\") & (df[\"Phenotype\"].isin(converters))][\"CNV_length\"].min():.2f}\"\"\")\n",
    "print(f\"\"\"Min length of rares DEL >400 kb in non_converters: {df[(df[\"CNV_length\"] > 400_000) & (df[\"Type\"] == \"DEL\") & (df[\"Phenotype\"].isin(non_converters))][\"CNV_length\"].min():.2f}\"\"\")\n",
    "print(f\"\"\"Min length of rares DUP >400 kb in non_converters: {df[(df[\"CNV_length\"] > 400_000) & (df[\"Type\"] == \"DUP\") & (df[\"Phenotype\"].isin(non_converters))][\"CNV_length\"].min():.2f}\"\"\")"
   ]
  },
  {
   "cell_type": "code",
   "execution_count": 356,
   "metadata": {},
   "outputs": [
    {
     "name": "stdout",
     "output_type": "stream",
     "text": [
      "Max length of rares DEL >400 kb in converters: 2379038.00\n",
      "Max length of rares DUP >400 kb in converters: 3404960.00\n",
      "Max length of rares DEL >400 kb in non_converters: 1633562.00\n",
      "Max length of rares DUP >400 kb in non_converters: 11481588.00\n"
     ]
    }
   ],
   "source": [
    "print(f\"\"\"Max length of rares DEL >400 kb in converters: {df[(df[\"CNV_length\"] > 400_000) & (df[\"Type\"] == \"DEL\") & (df[\"Phenotype\"].isin(converters))][\"CNV_length\"].max():.2f}\"\"\")\n",
    "print(f\"\"\"Max length of rares DUP >400 kb in converters: {df[(df[\"CNV_length\"] > 400_000) & (df[\"Type\"] == \"DUP\") & (df[\"Phenotype\"].isin(converters))][\"CNV_length\"].max():.2f}\"\"\")\n",
    "print(f\"\"\"Max length of rares DEL >400 kb in non_converters: {df[(df[\"CNV_length\"] > 400_000) & (df[\"Type\"] == \"DEL\") & (df[\"Phenotype\"].isin(non_converters))][\"CNV_length\"].max():.2f}\"\"\")\n",
    "print(f\"\"\"Max length of rares DUP >400 kb in non_converters: {df[(df[\"CNV_length\"] > 400_000) & (df[\"Type\"] == \"DUP\") & (df[\"Phenotype\"].isin(non_converters))][\"CNV_length\"].max():.2f}\"\"\")"
   ]
  },
  {
   "cell_type": "markdown",
   "metadata": {},
   "source": [
    "## Brain genes in FEP+CONV and NON_CONV"
   ]
  },
  {
   "cell_type": "code",
   "execution_count": 144,
   "metadata": {},
   "outputs": [],
   "source": [
    "unique_genes = set()\n",
    "df[\"Protein_coding_genes\"].apply(lambda x: unique_genes.update(x.split(\", \")))\n",
    "unique_genes = list(unique_genes)"
   ]
  },
  {
   "cell_type": "code",
   "execution_count": null,
   "metadata": {},
   "outputs": [],
   "source": [
    "gene_id = {}"
   ]
  },
  {
   "cell_type": "code",
   "execution_count": 100,
   "metadata": {},
   "outputs": [
    {
     "name": "stderr",
     "output_type": "stream",
     "text": [
      "100%|██████████| 2059/2059 [00:36<00:00, 56.17it/s]  \n"
     ]
    }
   ],
   "source": [
    "api_key = \"5c60f73cd9bc7bce4e4a8d496e3dde241709\"\n",
    "db = \"gene\"\n",
    "base_url = \"https://eutils.ncbi.nlm.nih.gov/entrez/eutils/\"\n",
    "retmode = \"xml\"\n",
    "\n",
    "for gene_name in tqdm(unique_genes):\n",
    "    if gene_name in gene_id:\n",
    "        continue\n",
    "    term = f\"(Homo+sapiens%5BOrganism%5D)+AND+{gene_name}%5BGene+Name%5D\"\n",
    "    query_url = (\n",
    "            f\"{base_url}/esearch.fcgi?db={db}&term={term}&retmode={retmode}&api_key={api_key}\"\n",
    "    )\n",
    "    response = requests.get(query_url)\n",
    "    if response.status_code != 200:\n",
    "        print(f\"Error with {gene_name}\")\n",
    "    else:\n",
    "        xml_content = response.content\n",
    "        xml_content_dict = xmltodict.parse(xml_content)\n",
    "        gene_id_list = xml_content_dict[\"eSearchResult\"][\"IdList\"][\"Id\"]\n",
    "        gene_id[gene_name] = gene_id_list"
   ]
  },
  {
   "cell_type": "code",
   "execution_count": 99,
   "metadata": {},
   "outputs": [],
   "source": [
    "unique_genes.remove(\"LOC150051\")\n",
    "unique_genes.append(\"TIAM1-AS1\")"
   ]
  },
  {
   "cell_type": "code",
   "execution_count": 98,
   "metadata": {},
   "outputs": [],
   "source": [
    "unique_genes.remove(\"LOC100130520\")\n",
    "unique_genes.append(\"CD300H\")"
   ]
  },
  {
   "cell_type": "code",
   "execution_count": 194,
   "metadata": {},
   "outputs": [],
   "source": [
    "filename = \"results/gene_ids.json\"\n",
    "\n",
    "with open(filename, \"w\") as json_file:\n",
    "    json.dump(gene_id, json_file)\n"
   ]
  },
  {
   "cell_type": "code",
   "execution_count": 145,
   "metadata": {},
   "outputs": [],
   "source": [
    "with open(\"results/gene_ids.json\", \"r\") as json_file:\n",
    "    gene_id = json.load(json_file)"
   ]
  },
  {
   "cell_type": "code",
   "execution_count": 5,
   "metadata": {},
   "outputs": [],
   "source": [
    "gene_expression = {}"
   ]
  },
  {
   "cell_type": "code",
   "execution_count": 45,
   "metadata": {},
   "outputs": [
    {
     "name": "stderr",
     "output_type": "stream",
     "text": [
      "  0%|          | 1/322 [00:00<03:20,  1.60it/s]"
     ]
    },
    {
     "name": "stdout",
     "output_type": "stream",
     "text": [
      "Error 200 with FAM25E\n"
     ]
    },
    {
     "name": "stderr",
     "output_type": "stream",
     "text": [
      "  1%|          | 2/322 [00:01<03:10,  1.68it/s]"
     ]
    },
    {
     "name": "stdout",
     "output_type": "stream",
     "text": [
      "Error 200 with PTCHD4\n"
     ]
    },
    {
     "name": "stderr",
     "output_type": "stream",
     "text": [
      "  1%|          | 3/322 [00:01<03:08,  1.69it/s]"
     ]
    },
    {
     "name": "stdout",
     "output_type": "stream",
     "text": [
      "Error 200 with STPG2\n"
     ]
    },
    {
     "name": "stderr",
     "output_type": "stream",
     "text": [
      "  1%|          | 4/322 [00:02<03:04,  1.72it/s]"
     ]
    },
    {
     "name": "stdout",
     "output_type": "stream",
     "text": [
      "Error 200 with OR2T11\n"
     ]
    },
    {
     "name": "stderr",
     "output_type": "stream",
     "text": [
      "  2%|▏         | 5/322 [00:02<03:02,  1.74it/s]"
     ]
    },
    {
     "name": "stdout",
     "output_type": "stream",
     "text": [
      "Error 200 with TRMT12\n"
     ]
    },
    {
     "name": "stderr",
     "output_type": "stream",
     "text": [
      "  2%|▏         | 5/322 [00:03<03:29,  1.51it/s]\n"
     ]
    },
    {
     "ename": "KeyboardInterrupt",
     "evalue": "",
     "output_type": "error",
     "traceback": [
      "\u001b[0;31m---------------------------------------------------------------------------\u001b[0m",
      "\u001b[0;31mKeyboardInterrupt\u001b[0m                         Traceback (most recent call last)",
      "\u001b[1;32m/mnt/c/Users/nadia/projects/schizophrenia/stats.ipynb Cell 25\u001b[0m line \u001b[0;36m2\n\u001b[1;32m     <a href='vscode-notebook-cell://wsl%2Bubuntu-22.04/mnt/c/Users/nadia/projects/schizophrenia/stats.ipynb#Y111sdnNjb2RlLXJlbW90ZQ%3D%3D?line=12'>13</a>\u001b[0m \u001b[39mfor\u001b[39;00m \u001b[39mid\u001b[39m \u001b[39min\u001b[39;00m gene_id[gene]:\n\u001b[1;32m     <a href='vscode-notebook-cell://wsl%2Bubuntu-22.04/mnt/c/Users/nadia/projects/schizophrenia/stats.ipynb#Y111sdnNjb2RlLXJlbW90ZQ%3D%3D?line=14'>15</a>\u001b[0m     query_url \u001b[39m=\u001b[39m (\n\u001b[1;32m     <a href='vscode-notebook-cell://wsl%2Bubuntu-22.04/mnt/c/Users/nadia/projects/schizophrenia/stats.ipynb#Y111sdnNjb2RlLXJlbW90ZQ%3D%3D?line=15'>16</a>\u001b[0m         \u001b[39mf\u001b[39m\u001b[39m\"\u001b[39m\u001b[39m{\u001b[39;00mbase_url\u001b[39m}\u001b[39;00m\u001b[39m/efetch.fcgi?db=\u001b[39m\u001b[39m{\u001b[39;00mdb\u001b[39m}\u001b[39;00m\u001b[39m&id=\u001b[39m\u001b[39m{\u001b[39;00m\u001b[39mstr\u001b[39m(\u001b[39mid\u001b[39m)\u001b[39m}\u001b[39;00m\u001b[39m\"\u001b[39m\n\u001b[1;32m     <a href='vscode-notebook-cell://wsl%2Bubuntu-22.04/mnt/c/Users/nadia/projects/schizophrenia/stats.ipynb#Y111sdnNjb2RlLXJlbW90ZQ%3D%3D?line=16'>17</a>\u001b[0m         \u001b[39mf\u001b[39m\u001b[39m\"\u001b[39m\u001b[39m&retmode=\u001b[39m\u001b[39m{\u001b[39;00mretmode\u001b[39m}\u001b[39;00m\u001b[39m&rettype=abstract&api_key=\u001b[39m\u001b[39m{\u001b[39;00mapi_key\u001b[39m}\u001b[39;00m\u001b[39m\"\u001b[39m\n\u001b[1;32m     <a href='vscode-notebook-cell://wsl%2Bubuntu-22.04/mnt/c/Users/nadia/projects/schizophrenia/stats.ipynb#Y111sdnNjb2RlLXJlbW90ZQ%3D%3D?line=17'>18</a>\u001b[0m     )\n\u001b[0;32m---> <a href='vscode-notebook-cell://wsl%2Bubuntu-22.04/mnt/c/Users/nadia/projects/schizophrenia/stats.ipynb#Y111sdnNjb2RlLXJlbW90ZQ%3D%3D?line=19'>20</a>\u001b[0m     response \u001b[39m=\u001b[39m requests\u001b[39m.\u001b[39;49mget(query_url)\n\u001b[1;32m     <a href='vscode-notebook-cell://wsl%2Bubuntu-22.04/mnt/c/Users/nadia/projects/schizophrenia/stats.ipynb#Y111sdnNjb2RlLXJlbW90ZQ%3D%3D?line=21'>22</a>\u001b[0m     \u001b[39mif\u001b[39;00m response\u001b[39m.\u001b[39mstatus_code \u001b[39m==\u001b[39m \u001b[39m200\u001b[39m:\n\u001b[1;32m     <a href='vscode-notebook-cell://wsl%2Bubuntu-22.04/mnt/c/Users/nadia/projects/schizophrenia/stats.ipynb#Y111sdnNjb2RlLXJlbW90ZQ%3D%3D?line=22'>23</a>\u001b[0m         xml_content \u001b[39m=\u001b[39m response\u001b[39m.\u001b[39mcontent\n",
      "File \u001b[0;32m~/miniconda3/envs/everything/lib/python3.11/site-packages/requests/api.py:73\u001b[0m, in \u001b[0;36mget\u001b[0;34m(url, params, **kwargs)\u001b[0m\n\u001b[1;32m     62\u001b[0m \u001b[39mdef\u001b[39;00m \u001b[39mget\u001b[39m(url, params\u001b[39m=\u001b[39m\u001b[39mNone\u001b[39;00m, \u001b[39m*\u001b[39m\u001b[39m*\u001b[39mkwargs):\n\u001b[1;32m     63\u001b[0m \u001b[39m    \u001b[39m\u001b[39mr\u001b[39m\u001b[39m\"\"\"Sends a GET request.\u001b[39;00m\n\u001b[1;32m     64\u001b[0m \n\u001b[1;32m     65\u001b[0m \u001b[39m    :param url: URL for the new :class:`Request` object.\u001b[39;00m\n\u001b[0;32m   (...)\u001b[0m\n\u001b[1;32m     70\u001b[0m \u001b[39m    :rtype: requests.Response\u001b[39;00m\n\u001b[1;32m     71\u001b[0m \u001b[39m    \"\"\"\u001b[39;00m\n\u001b[0;32m---> 73\u001b[0m     \u001b[39mreturn\u001b[39;00m request(\u001b[39m\"\u001b[39;49m\u001b[39mget\u001b[39;49m\u001b[39m\"\u001b[39;49m, url, params\u001b[39m=\u001b[39;49mparams, \u001b[39m*\u001b[39;49m\u001b[39m*\u001b[39;49mkwargs)\n",
      "File \u001b[0;32m~/miniconda3/envs/everything/lib/python3.11/site-packages/requests/api.py:59\u001b[0m, in \u001b[0;36mrequest\u001b[0;34m(method, url, **kwargs)\u001b[0m\n\u001b[1;32m     55\u001b[0m \u001b[39m# By using the 'with' statement we are sure the session is closed, thus we\u001b[39;00m\n\u001b[1;32m     56\u001b[0m \u001b[39m# avoid leaving sockets open which can trigger a ResourceWarning in some\u001b[39;00m\n\u001b[1;32m     57\u001b[0m \u001b[39m# cases, and look like a memory leak in others.\u001b[39;00m\n\u001b[1;32m     58\u001b[0m \u001b[39mwith\u001b[39;00m sessions\u001b[39m.\u001b[39mSession() \u001b[39mas\u001b[39;00m session:\n\u001b[0;32m---> 59\u001b[0m     \u001b[39mreturn\u001b[39;00m session\u001b[39m.\u001b[39;49mrequest(method\u001b[39m=\u001b[39;49mmethod, url\u001b[39m=\u001b[39;49murl, \u001b[39m*\u001b[39;49m\u001b[39m*\u001b[39;49mkwargs)\n",
      "File \u001b[0;32m~/miniconda3/envs/everything/lib/python3.11/site-packages/requests/sessions.py:589\u001b[0m, in \u001b[0;36mSession.request\u001b[0;34m(self, method, url, params, data, headers, cookies, files, auth, timeout, allow_redirects, proxies, hooks, stream, verify, cert, json)\u001b[0m\n\u001b[1;32m    584\u001b[0m send_kwargs \u001b[39m=\u001b[39m {\n\u001b[1;32m    585\u001b[0m     \u001b[39m\"\u001b[39m\u001b[39mtimeout\u001b[39m\u001b[39m\"\u001b[39m: timeout,\n\u001b[1;32m    586\u001b[0m     \u001b[39m\"\u001b[39m\u001b[39mallow_redirects\u001b[39m\u001b[39m\"\u001b[39m: allow_redirects,\n\u001b[1;32m    587\u001b[0m }\n\u001b[1;32m    588\u001b[0m send_kwargs\u001b[39m.\u001b[39mupdate(settings)\n\u001b[0;32m--> 589\u001b[0m resp \u001b[39m=\u001b[39m \u001b[39mself\u001b[39;49m\u001b[39m.\u001b[39;49msend(prep, \u001b[39m*\u001b[39;49m\u001b[39m*\u001b[39;49msend_kwargs)\n\u001b[1;32m    591\u001b[0m \u001b[39mreturn\u001b[39;00m resp\n",
      "File \u001b[0;32m~/miniconda3/envs/everything/lib/python3.11/site-packages/requests/sessions.py:703\u001b[0m, in \u001b[0;36mSession.send\u001b[0;34m(self, request, **kwargs)\u001b[0m\n\u001b[1;32m    700\u001b[0m start \u001b[39m=\u001b[39m preferred_clock()\n\u001b[1;32m    702\u001b[0m \u001b[39m# Send the request\u001b[39;00m\n\u001b[0;32m--> 703\u001b[0m r \u001b[39m=\u001b[39m adapter\u001b[39m.\u001b[39;49msend(request, \u001b[39m*\u001b[39;49m\u001b[39m*\u001b[39;49mkwargs)\n\u001b[1;32m    705\u001b[0m \u001b[39m# Total elapsed time of the request (approximately)\u001b[39;00m\n\u001b[1;32m    706\u001b[0m elapsed \u001b[39m=\u001b[39m preferred_clock() \u001b[39m-\u001b[39m start\n",
      "File \u001b[0;32m~/miniconda3/envs/everything/lib/python3.11/site-packages/requests/adapters.py:486\u001b[0m, in \u001b[0;36mHTTPAdapter.send\u001b[0;34m(self, request, stream, timeout, verify, cert, proxies)\u001b[0m\n\u001b[1;32m    483\u001b[0m     timeout \u001b[39m=\u001b[39m TimeoutSauce(connect\u001b[39m=\u001b[39mtimeout, read\u001b[39m=\u001b[39mtimeout)\n\u001b[1;32m    485\u001b[0m \u001b[39mtry\u001b[39;00m:\n\u001b[0;32m--> 486\u001b[0m     resp \u001b[39m=\u001b[39m conn\u001b[39m.\u001b[39;49murlopen(\n\u001b[1;32m    487\u001b[0m         method\u001b[39m=\u001b[39;49mrequest\u001b[39m.\u001b[39;49mmethod,\n\u001b[1;32m    488\u001b[0m         url\u001b[39m=\u001b[39;49murl,\n\u001b[1;32m    489\u001b[0m         body\u001b[39m=\u001b[39;49mrequest\u001b[39m.\u001b[39;49mbody,\n\u001b[1;32m    490\u001b[0m         headers\u001b[39m=\u001b[39;49mrequest\u001b[39m.\u001b[39;49mheaders,\n\u001b[1;32m    491\u001b[0m         redirect\u001b[39m=\u001b[39;49m\u001b[39mFalse\u001b[39;49;00m,\n\u001b[1;32m    492\u001b[0m         assert_same_host\u001b[39m=\u001b[39;49m\u001b[39mFalse\u001b[39;49;00m,\n\u001b[1;32m    493\u001b[0m         preload_content\u001b[39m=\u001b[39;49m\u001b[39mFalse\u001b[39;49;00m,\n\u001b[1;32m    494\u001b[0m         decode_content\u001b[39m=\u001b[39;49m\u001b[39mFalse\u001b[39;49;00m,\n\u001b[1;32m    495\u001b[0m         retries\u001b[39m=\u001b[39;49m\u001b[39mself\u001b[39;49m\u001b[39m.\u001b[39;49mmax_retries,\n\u001b[1;32m    496\u001b[0m         timeout\u001b[39m=\u001b[39;49mtimeout,\n\u001b[1;32m    497\u001b[0m         chunked\u001b[39m=\u001b[39;49mchunked,\n\u001b[1;32m    498\u001b[0m     )\n\u001b[1;32m    500\u001b[0m \u001b[39mexcept\u001b[39;00m (ProtocolError, \u001b[39mOSError\u001b[39;00m) \u001b[39mas\u001b[39;00m err:\n\u001b[1;32m    501\u001b[0m     \u001b[39mraise\u001b[39;00m \u001b[39mConnectionError\u001b[39;00m(err, request\u001b[39m=\u001b[39mrequest)\n",
      "File \u001b[0;32m~/miniconda3/envs/everything/lib/python3.11/site-packages/urllib3/connectionpool.py:790\u001b[0m, in \u001b[0;36mHTTPConnectionPool.urlopen\u001b[0;34m(self, method, url, body, headers, retries, redirect, assert_same_host, timeout, pool_timeout, release_conn, chunked, body_pos, preload_content, decode_content, **response_kw)\u001b[0m\n\u001b[1;32m    787\u001b[0m response_conn \u001b[39m=\u001b[39m conn \u001b[39mif\u001b[39;00m \u001b[39mnot\u001b[39;00m release_conn \u001b[39melse\u001b[39;00m \u001b[39mNone\u001b[39;00m\n\u001b[1;32m    789\u001b[0m \u001b[39m# Make the request on the HTTPConnection object\u001b[39;00m\n\u001b[0;32m--> 790\u001b[0m response \u001b[39m=\u001b[39m \u001b[39mself\u001b[39;49m\u001b[39m.\u001b[39;49m_make_request(\n\u001b[1;32m    791\u001b[0m     conn,\n\u001b[1;32m    792\u001b[0m     method,\n\u001b[1;32m    793\u001b[0m     url,\n\u001b[1;32m    794\u001b[0m     timeout\u001b[39m=\u001b[39;49mtimeout_obj,\n\u001b[1;32m    795\u001b[0m     body\u001b[39m=\u001b[39;49mbody,\n\u001b[1;32m    796\u001b[0m     headers\u001b[39m=\u001b[39;49mheaders,\n\u001b[1;32m    797\u001b[0m     chunked\u001b[39m=\u001b[39;49mchunked,\n\u001b[1;32m    798\u001b[0m     retries\u001b[39m=\u001b[39;49mretries,\n\u001b[1;32m    799\u001b[0m     response_conn\u001b[39m=\u001b[39;49mresponse_conn,\n\u001b[1;32m    800\u001b[0m     preload_content\u001b[39m=\u001b[39;49mpreload_content,\n\u001b[1;32m    801\u001b[0m     decode_content\u001b[39m=\u001b[39;49mdecode_content,\n\u001b[1;32m    802\u001b[0m     \u001b[39m*\u001b[39;49m\u001b[39m*\u001b[39;49mresponse_kw,\n\u001b[1;32m    803\u001b[0m )\n\u001b[1;32m    805\u001b[0m \u001b[39m# Everything went great!\u001b[39;00m\n\u001b[1;32m    806\u001b[0m clean_exit \u001b[39m=\u001b[39m \u001b[39mTrue\u001b[39;00m\n",
      "File \u001b[0;32m~/miniconda3/envs/everything/lib/python3.11/site-packages/urllib3/connectionpool.py:536\u001b[0m, in \u001b[0;36mHTTPConnectionPool._make_request\u001b[0;34m(self, conn, method, url, body, headers, retries, timeout, chunked, response_conn, preload_content, decode_content, enforce_content_length)\u001b[0m\n\u001b[1;32m    534\u001b[0m \u001b[39m# Receive the response from the server\u001b[39;00m\n\u001b[1;32m    535\u001b[0m \u001b[39mtry\u001b[39;00m:\n\u001b[0;32m--> 536\u001b[0m     response \u001b[39m=\u001b[39m conn\u001b[39m.\u001b[39;49mgetresponse()\n\u001b[1;32m    537\u001b[0m \u001b[39mexcept\u001b[39;00m (BaseSSLError, \u001b[39mOSError\u001b[39;00m) \u001b[39mas\u001b[39;00m e:\n\u001b[1;32m    538\u001b[0m     \u001b[39mself\u001b[39m\u001b[39m.\u001b[39m_raise_timeout(err\u001b[39m=\u001b[39me, url\u001b[39m=\u001b[39murl, timeout_value\u001b[39m=\u001b[39mread_timeout)\n",
      "File \u001b[0;32m~/miniconda3/envs/everything/lib/python3.11/site-packages/urllib3/connection.py:461\u001b[0m, in \u001b[0;36mHTTPConnection.getresponse\u001b[0;34m(self)\u001b[0m\n\u001b[1;32m    458\u001b[0m \u001b[39mfrom\u001b[39;00m \u001b[39m.\u001b[39;00m\u001b[39mresponse\u001b[39;00m \u001b[39mimport\u001b[39;00m HTTPResponse\n\u001b[1;32m    460\u001b[0m \u001b[39m# Get the response from http.client.HTTPConnection\u001b[39;00m\n\u001b[0;32m--> 461\u001b[0m httplib_response \u001b[39m=\u001b[39m \u001b[39msuper\u001b[39;49m()\u001b[39m.\u001b[39;49mgetresponse()\n\u001b[1;32m    463\u001b[0m \u001b[39mtry\u001b[39;00m:\n\u001b[1;32m    464\u001b[0m     assert_header_parsing(httplib_response\u001b[39m.\u001b[39mmsg)\n",
      "File \u001b[0;32m~/miniconda3/envs/everything/lib/python3.11/http/client.py:1378\u001b[0m, in \u001b[0;36mHTTPConnection.getresponse\u001b[0;34m(self)\u001b[0m\n\u001b[1;32m   1376\u001b[0m \u001b[39mtry\u001b[39;00m:\n\u001b[1;32m   1377\u001b[0m     \u001b[39mtry\u001b[39;00m:\n\u001b[0;32m-> 1378\u001b[0m         response\u001b[39m.\u001b[39;49mbegin()\n\u001b[1;32m   1379\u001b[0m     \u001b[39mexcept\u001b[39;00m \u001b[39mConnectionError\u001b[39;00m:\n\u001b[1;32m   1380\u001b[0m         \u001b[39mself\u001b[39m\u001b[39m.\u001b[39mclose()\n",
      "File \u001b[0;32m~/miniconda3/envs/everything/lib/python3.11/http/client.py:318\u001b[0m, in \u001b[0;36mHTTPResponse.begin\u001b[0;34m(self)\u001b[0m\n\u001b[1;32m    316\u001b[0m \u001b[39m# read until we get a non-100 response\u001b[39;00m\n\u001b[1;32m    317\u001b[0m \u001b[39mwhile\u001b[39;00m \u001b[39mTrue\u001b[39;00m:\n\u001b[0;32m--> 318\u001b[0m     version, status, reason \u001b[39m=\u001b[39m \u001b[39mself\u001b[39;49m\u001b[39m.\u001b[39;49m_read_status()\n\u001b[1;32m    319\u001b[0m     \u001b[39mif\u001b[39;00m status \u001b[39m!=\u001b[39m CONTINUE:\n\u001b[1;32m    320\u001b[0m         \u001b[39mbreak\u001b[39;00m\n",
      "File \u001b[0;32m~/miniconda3/envs/everything/lib/python3.11/http/client.py:279\u001b[0m, in \u001b[0;36mHTTPResponse._read_status\u001b[0;34m(self)\u001b[0m\n\u001b[1;32m    278\u001b[0m \u001b[39mdef\u001b[39;00m \u001b[39m_read_status\u001b[39m(\u001b[39mself\u001b[39m):\n\u001b[0;32m--> 279\u001b[0m     line \u001b[39m=\u001b[39m \u001b[39mstr\u001b[39m(\u001b[39mself\u001b[39m\u001b[39m.\u001b[39mfp\u001b[39m.\u001b[39mreadline(_MAXLINE \u001b[39m+\u001b[39m \u001b[39m1\u001b[39m), \u001b[39m\"\u001b[39m\u001b[39miso-8859-1\u001b[39m\u001b[39m\"\u001b[39m)\n\u001b[1;32m    280\u001b[0m     \u001b[39mif\u001b[39;00m \u001b[39mlen\u001b[39m(line) \u001b[39m>\u001b[39m _MAXLINE:\n\u001b[1;32m    281\u001b[0m         \u001b[39mraise\u001b[39;00m LineTooLong(\u001b[39m\"\u001b[39m\u001b[39mstatus line\u001b[39m\u001b[39m\"\u001b[39m)\n",
      "File \u001b[0;32m~/miniconda3/envs/everything/lib/python3.11/socket.py:706\u001b[0m, in \u001b[0;36mSocketIO.readinto\u001b[0;34m(self, b)\u001b[0m\n\u001b[1;32m    704\u001b[0m \u001b[39mwhile\u001b[39;00m \u001b[39mTrue\u001b[39;00m:\n\u001b[1;32m    705\u001b[0m     \u001b[39mtry\u001b[39;00m:\n\u001b[0;32m--> 706\u001b[0m         \u001b[39mreturn\u001b[39;00m \u001b[39mself\u001b[39;49m\u001b[39m.\u001b[39;49m_sock\u001b[39m.\u001b[39;49mrecv_into(b)\n\u001b[1;32m    707\u001b[0m     \u001b[39mexcept\u001b[39;00m timeout:\n\u001b[1;32m    708\u001b[0m         \u001b[39mself\u001b[39m\u001b[39m.\u001b[39m_timeout_occurred \u001b[39m=\u001b[39m \u001b[39mTrue\u001b[39;00m\n",
      "File \u001b[0;32m~/miniconda3/envs/everything/lib/python3.11/ssl.py:1311\u001b[0m, in \u001b[0;36mSSLSocket.recv_into\u001b[0;34m(self, buffer, nbytes, flags)\u001b[0m\n\u001b[1;32m   1307\u001b[0m     \u001b[39mif\u001b[39;00m flags \u001b[39m!=\u001b[39m \u001b[39m0\u001b[39m:\n\u001b[1;32m   1308\u001b[0m         \u001b[39mraise\u001b[39;00m \u001b[39mValueError\u001b[39;00m(\n\u001b[1;32m   1309\u001b[0m           \u001b[39m\"\u001b[39m\u001b[39mnon-zero flags not allowed in calls to recv_into() on \u001b[39m\u001b[39m%s\u001b[39;00m\u001b[39m\"\u001b[39m \u001b[39m%\u001b[39m\n\u001b[1;32m   1310\u001b[0m           \u001b[39mself\u001b[39m\u001b[39m.\u001b[39m\u001b[39m__class__\u001b[39m)\n\u001b[0;32m-> 1311\u001b[0m     \u001b[39mreturn\u001b[39;00m \u001b[39mself\u001b[39;49m\u001b[39m.\u001b[39;49mread(nbytes, buffer)\n\u001b[1;32m   1312\u001b[0m \u001b[39melse\u001b[39;00m:\n\u001b[1;32m   1313\u001b[0m     \u001b[39mreturn\u001b[39;00m \u001b[39msuper\u001b[39m()\u001b[39m.\u001b[39mrecv_into(buffer, nbytes, flags)\n",
      "File \u001b[0;32m~/miniconda3/envs/everything/lib/python3.11/ssl.py:1167\u001b[0m, in \u001b[0;36mSSLSocket.read\u001b[0;34m(self, len, buffer)\u001b[0m\n\u001b[1;32m   1165\u001b[0m \u001b[39mtry\u001b[39;00m:\n\u001b[1;32m   1166\u001b[0m     \u001b[39mif\u001b[39;00m buffer \u001b[39mis\u001b[39;00m \u001b[39mnot\u001b[39;00m \u001b[39mNone\u001b[39;00m:\n\u001b[0;32m-> 1167\u001b[0m         \u001b[39mreturn\u001b[39;00m \u001b[39mself\u001b[39;49m\u001b[39m.\u001b[39;49m_sslobj\u001b[39m.\u001b[39;49mread(\u001b[39mlen\u001b[39;49m, buffer)\n\u001b[1;32m   1168\u001b[0m     \u001b[39melse\u001b[39;00m:\n\u001b[1;32m   1169\u001b[0m         \u001b[39mreturn\u001b[39;00m \u001b[39mself\u001b[39m\u001b[39m.\u001b[39m_sslobj\u001b[39m.\u001b[39mread(\u001b[39mlen\u001b[39m)\n",
      "\u001b[0;31mKeyboardInterrupt\u001b[0m: "
     ]
    }
   ],
   "source": [
    "#example : https://eutils.ncbi.nlm.nih.gov/entrez/eutils/efetch.fcgi?db=gene&id=10149&retmode=xml\n",
    "\n",
    "api_key = \"5c60f73cd9bc7bce4e4a8d496e3dde241709\"\n",
    "db = \"gene\"\n",
    "base_url = \"https://www.ncbi.nlm.nih.gov/entrez/eutils\"\n",
    "retmode = \"xml\"\n",
    "\n",
    "for gene in tqdm(gene_id_list):\n",
    "    \n",
    "    if gene in gene_expression:\n",
    "        continue\n",
    "    \n",
    "    for id in gene_id[gene]:\n",
    "        \n",
    "        query_url = (\n",
    "            f\"{base_url}/efetch.fcgi?db={db}&id={str(id)}\"\n",
    "            f\"&retmode={retmode}&rettype=abstract&api_key={api_key}\"\n",
    "        )\n",
    "        \n",
    "        response = requests.get(query_url)\n",
    "        \n",
    "        if response.status_code == 200:\n",
    "            xml_content = response.content\n",
    "            xml_content_dict = xmltodict.parse(xml_content)\n",
    "            info = xml_content_dict['Entrezgene-Set']['Entrezgene']['Entrezgene_comments']['Gene-commentary']\n",
    "            for dict_info in info:\n",
    "                if 'Gene-commentary_heading' in dict_info.keys():\n",
    "                    if dict_info['Gene-commentary_heading'] == 'Representative Expression':\n",
    "                        for comment in dict_info[\"Gene-commentary_comment\"]['Gene-commentary']:\n",
    "                            if comment[\"Gene-commentary_label\"] == \"Tissue List\":\n",
    "                                gene_expression[gene] = comment['Gene-commentary_text']\n",
    "            break \n",
    "        \n",
    "    if gene not in gene_expression:\n",
    "        print(f\"Error {response.status_code} with {gene}\")\n"
   ]
  },
  {
   "cell_type": "code",
   "execution_count": 29,
   "metadata": {},
   "outputs": [],
   "source": [
    "filename = \"results/gene_expression.json\"\n",
    "\n",
    "with open(filename, \"w\") as json_file:\n",
    "    json.dump(gene_expression, json_file)"
   ]
  },
  {
   "cell_type": "code",
   "execution_count": 291,
   "metadata": {},
   "outputs": [],
   "source": [
    "with open(\"results/gene_expression.json\", 'r') as json_file:\n",
    "    gene_expression = json.load(json_file)"
   ]
  },
  {
   "cell_type": "code",
   "execution_count": 292,
   "metadata": {},
   "outputs": [],
   "source": [
    "df[\"Tissue_expression\"] = df[\"Protein_coding_genes\"].apply(lambda x: set(expression.strip() for gene in x.split(\", \") if gene in gene_expression for expression in gene_expression[gene].split(\";\")))"
   ]
  },
  {
   "cell_type": "code",
   "execution_count": 293,
   "metadata": {},
   "outputs": [],
   "source": [
    "brain_mask = df[\"Tissue_expression\"].apply(lambda x: \"brain\" in x)"
   ]
  },
  {
   "cell_type": "code",
   "execution_count": 294,
   "metadata": {},
   "outputs": [
    {
     "name": "stdout",
     "output_type": "stream",
     "text": [
      "Number of rares DEL expressed in brain in converters: 248\n",
      "Number of rares DUP expressed in brain in converters: 398\n",
      "Number of rares DEL expressed in brain in non_converters: 45\n",
      "Number of rares DUP expressed in brain in non_converters: 110\n"
     ]
    }
   ],
   "source": [
    "print(f\"\"\"Number of rares DEL expressed in brain in converters: {sum(brain_mask & (df[\"Type\"] == \"DEL\") & (df[\"Phenotype\"].isin(converters)))}\"\"\")\n",
    "print(f\"\"\"Number of rares DUP expressed in brain in converters: {sum(brain_mask & (df[\"Type\"] == \"DUP\") & (df[\"Phenotype\"].isin(converters)))}\"\"\")\n",
    "print(f\"\"\"Number of rares DEL expressed in brain in non_converters: {sum(brain_mask & (df[\"Type\"] == \"DEL\") & (df[\"Phenotype\"].isin(non_converters)))}\"\"\")\n",
    "print(f\"\"\"Number of rares DUP expressed in brain in non_converters: {sum(brain_mask & (df[\"Type\"] == \"DUP\") & (df[\"Phenotype\"].isin(non_converters)))}\"\"\")"
   ]
  },
  {
   "cell_type": "code",
   "execution_count": 359,
   "metadata": {},
   "outputs": [
    {
     "name": "stdout",
     "output_type": "stream",
     "text": [
      "Average length of rares brain DEL in converters: 65259.02\n",
      "Average length of rares brain DUP in converters: 113879.91\n",
      "Average length of rares brain DEL in non_converters: 97025.67\n",
      "Average length of rares brain DUP in non_converters: 1253044.82\n"
     ]
    }
   ],
   "source": [
    "print(f\"\"\"Average length of rares brain DEL in converters: {df[brain_mask & (df[\"Type\"] == \"DEL\") & (df[\"Phenotype\"].isin(converters))][\"CNV_length\"].mean():.2f}\"\"\")\n",
    "print(f\"\"\"Average length of rares brain DUP in converters: {df[brain_mask & (df[\"Type\"] == \"DUP\") & (df[\"Phenotype\"].isin(converters))][\"CNV_length\"].mean():.2f}\"\"\")\n",
    "print(f\"\"\"Average length of rares brain DEL in non_converters: {df[brain_mask & (df[\"Type\"] == \"DEL\") & (df[\"Phenotype\"].isin(non_converters))][\"CNV_length\"].mean():.2f}\"\"\")\n",
    "print(f\"\"\"Average length of rares brain DUP in non_converters: {df[brain_mask & (df[\"Type\"] == \"DUP\") & (df[\"Phenotype\"].isin(non_converters))][\"CNV_length\"].mean():.2f}\"\"\")"
   ]
  },
  {
   "cell_type": "code",
   "execution_count": 360,
   "metadata": {},
   "outputs": [
    {
     "name": "stdout",
     "output_type": "stream",
     "text": [
      "SD length of rares brain DEL in converters: 185938.85\n",
      "SD length of rares brain DUP in converters: 186430.59\n",
      "SD length of rares brain DEL in non_converters: 266222.09\n",
      "SD length of rares brain DUP in non_converters: 2018210.90\n"
     ]
    }
   ],
   "source": [
    "print(f\"\"\"SD length of rares brain DEL in converters: {df[brain_mask & (df[\"Type\"] == \"DEL\") & (df[\"Phenotype\"].isin(converters))][\"CNV_length\"].std():.2f}\"\"\")\n",
    "print(f\"\"\"SD length of rares brain DUP in converters: {df[brain_mask & (df[\"Type\"] == \"DUP\") & (df[\"Phenotype\"].isin(converters))][\"CNV_length\"].std():.2f}\"\"\")\n",
    "print(f\"\"\"SD length of rares brain DEL in non_converters: {df[brain_mask & (df[\"Type\"] == \"DEL\") & (df[\"Phenotype\"].isin(non_converters))][\"CNV_length\"].std():.2f}\"\"\")\n",
    "print(f\"\"\"SD length of rares brain DUP in non_converters: {df[brain_mask & (df[\"Type\"] == \"DUP\") & (df[\"Phenotype\"].isin(non_converters))][\"CNV_length\"].std():.2f}\"\"\")"
   ]
  },
  {
   "cell_type": "code",
   "execution_count": 358,
   "metadata": {},
   "outputs": [
    {
     "name": "stdout",
     "output_type": "stream",
     "text": [
      "Min length of rares brain DEL in converters: 9999.00\n",
      "Min length of rares brain DUP in converters: 10115.00\n",
      "Min length of rares brain DEL in non_converters: 10495.00\n",
      "Min length of rares brain DUP in non_converters: 10765.00\n"
     ]
    }
   ],
   "source": [
    "print(f\"\"\"Min length of rares brain DEL in converters: {df[brain_mask & (df[\"Type\"] == \"DEL\") & (df[\"Phenotype\"].isin(converters))][\"CNV_length\"].min():.2f}\"\"\")\n",
    "print(f\"\"\"Min length of rares brain DUP in converters: {df[brain_mask & (df[\"Type\"] == \"DUP\") & (df[\"Phenotype\"].isin(converters))][\"CNV_length\"].min():.2f}\"\"\")\n",
    "print(f\"\"\"Min length of rares brain DEL in non_converters: {df[brain_mask & (df[\"Type\"] == \"DEL\") & (df[\"Phenotype\"].isin(non_converters))][\"CNV_length\"].min():.2f}\"\"\")\n",
    "print(f\"\"\"Min length of rares brain DUP in non_converters: {df[brain_mask & (df[\"Type\"] == \"DUP\") & (df[\"Phenotype\"].isin(non_converters))][\"CNV_length\"].min():.2f}\"\"\")"
   ]
  },
  {
   "cell_type": "code",
   "execution_count": 357,
   "metadata": {},
   "outputs": [
    {
     "name": "stdout",
     "output_type": "stream",
     "text": [
      "Max length of rares brain DEL in converters: 2379038.00\n",
      "Max length of rares brain DUP in converters: 1646751.00\n",
      "Max length of rares brain DEL in non_converters: 1633562.00\n",
      "Max length of rares brain DUP in non_converters: 11481588.00\n"
     ]
    }
   ],
   "source": [
    "print(f\"\"\"Max length of rares brain DEL in converters: {df[brain_mask & (df[\"Type\"] == \"DEL\") & (df[\"Phenotype\"].isin(converters))][\"CNV_length\"].max():.2f}\"\"\")\n",
    "print(f\"\"\"Max length of rares brain DUP in converters: {df[brain_mask & (df[\"Type\"] == \"DUP\") & (df[\"Phenotype\"].isin(converters))][\"CNV_length\"].max():.2f}\"\"\")\n",
    "print(f\"\"\"Max length of rares brain DEL in non_converters: {df[brain_mask & (df[\"Type\"] == \"DEL\") & (df[\"Phenotype\"].isin(non_converters))][\"CNV_length\"].max():.2f}\"\"\")\n",
    "print(f\"\"\"Max length of rares brain DUP in non_converters: {df[brain_mask & (df[\"Type\"] == \"DUP\") & (df[\"Phenotype\"].isin(non_converters))][\"CNV_length\"].max():.2f}\"\"\")"
   ]
  },
  {
   "cell_type": "code",
   "execution_count": 302,
   "metadata": {},
   "outputs": [],
   "source": [
    "def remove_empty_strings(s):\n",
    "    return {item for item in s if item != \"\"}\n",
    "\n",
    "df['Tissue_expression'] = df['Tissue_expression'].apply(remove_empty_strings)\n",
    "df['Tissue_expression'] = df['Tissue_expression'].apply(lambda x: \", \".join(x))\n"
   ]
  },
  {
   "cell_type": "code",
   "execution_count": 229,
   "metadata": {},
   "outputs": [],
   "source": [
    "df.to_csv(\"results/cnv_rares.csv\", index=False)"
   ]
  },
  {
   "cell_type": "markdown",
   "metadata": {},
   "source": [
    "## Statistical analysis"
   ]
  },
  {
   "cell_type": "code",
   "execution_count": 315,
   "metadata": {},
   "outputs": [],
   "source": [
    "data = {\n",
    "    \"FEP + CONV\": [6552, 7381, 4, 0, 370, 56367, 10, 248, 512, 120151, 34, 398],\n",
    "    \"NCONV\": [1444, 1611, 1, 0, 76, 75747, 3, 45, 135, 1072063, 52, 110]\n",
    "}\n",
    "\n",
    "index = [\n",
    "    \"nb_DEL\",\n",
    "    \"nb_DUP\",\n",
    "    \"nb_DEL_patho\",\n",
    "    \"nb_DUP_patho\",\n",
    "    \"nb_DEL_VUS_rares\",\n",
    "    \"DEL_VUS_rares_size\",\n",
    "    \"nb_DEL_VUS_rares_size_>_400kb\",\n",
    "    \"nb_DEL_VUS_rares_in_brain\",\n",
    "    \"nb_DUP_VUS_rares\",\n",
    "    \"DUP_VUS_rares_size\",\n",
    "    \"nb_DUP_VUS_rares_size_>_400kb\",\n",
    "    \"nb_DUP_VUS_rares_in_brain\",\n",
    "]\n",
    "\n",
    "df_stat = pd.DataFrame(data, index=index)\n",
    "df_stat = df_stat.transpose()"
   ]
  },
  {
   "cell_type": "code",
   "execution_count": 316,
   "metadata": {},
   "outputs": [],
   "source": [
    "columns = df_stat.columns.to_list()\n",
    "columns.remove(\"DEL_VUS_rares_size\")\n",
    "columns.remove(\"DUP_VUS_rares_size\")"
   ]
  },
  {
   "cell_type": "code",
   "execution_count": 323,
   "metadata": {},
   "outputs": [],
   "source": [
    "import scipy.stats as stats\n",
    "import statsmodels.api as sm\n",
    "\n",
    "total_cnv_conv = 13933\n",
    "total_cnv_non_conv = 3055\n",
    "\n",
    "p_values = []\n",
    "\n",
    "for column in columns:\n",
    "    \n",
    "    count_conv = int(df_stat[column][\"FEP + CONV\"])\n",
    "    count_non_conv = int(df_stat[column][\"NCONV\"])\n",
    "\n",
    "    # Z-test for proportions\n",
    "    _, p_value = sm.stats.proportions_ztest([count_conv, count_non_conv], \n",
    "                                                  [total_cnv_conv, total_cnv_non_conv])\n",
    "        \n",
    "    p_values.append(p_value)\n",
    "\n",
    "#_, adjusted_p_values, _, _ = sm.stats.multipletests(p_values, method=\"fdr_bh\")\n",
    "\n",
    "for i, p in enumerate(p_values):\n",
    "    df_stat.at[\"p-value\", columns[i]] = p\n",
    "    df_stat.at[\"DIFF\", columns[i]] = p < 0.05"
   ]
  },
  {
   "cell_type": "code",
   "execution_count": 383,
   "metadata": {},
   "outputs": [],
   "source": [
    "df = pd.read_csv(\"results/cnv_rares.csv\")"
   ]
  },
  {
   "cell_type": "code",
   "execution_count": 309,
   "metadata": {},
   "outputs": [],
   "source": [
    "del_conv_mask = (df[\"Type\"] == \"DEL\") & (df[\"Phenotype\"].isin(converters))\n",
    "dup_conv_mask = (df[\"Type\"] == \"DUP\") & (df[\"Phenotype\"].isin(converters))\n",
    "del_non_conv_mask = (df[\"Type\"] == \"DEL\") & (df[\"Phenotype\"].isin(non_converters))\n",
    "dup_non_conv_mask = (df[\"Type\"] == \"DUP\") & (df[\"Phenotype\"].isin(non_converters))"
   ]
  },
  {
   "cell_type": "code",
   "execution_count": 318,
   "metadata": {},
   "outputs": [
    {
     "name": "stderr",
     "output_type": "stream",
     "text": [
      "/tmp/ipykernel_674/1724715251.py:10: FutureWarning: Setting an item of incompatible dtype is deprecated and will raise in a future error of pandas. Value 'False' has dtype incompatible with float64, please explicitly cast to a compatible dtype first.\n",
      "  df_stat.at[\"DIFF\", \"DEL_VUS_rares_size\"] = p_value_del < 0.05\n",
      "/tmp/ipykernel_674/1724715251.py:12: FutureWarning: Setting an item of incompatible dtype is deprecated and will raise in a future error of pandas. Value 'True' has dtype incompatible with float64, please explicitly cast to a compatible dtype first.\n",
      "  df_stat.at[\"DIFF\", \"DUP_VUS_rares_size\"] = p_value_dup < 0.05\n"
     ]
    }
   ],
   "source": [
    "del_conv_data = df[del_conv_mask][\"CNV_length\"].to_list()\n",
    "del_non_conv_data = df[del_non_conv_mask][\"CNV_length\"].to_list()\n",
    "dup_conv_data = df[dup_conv_mask][\"CNV_length\"].to_list()\n",
    "dup_non_conv_data = df[dup_non_conv_mask][\"CNV_length\"].to_list()\n",
    "\n",
    "_, p_value_del = stats.ttest_ind(del_conv_data, del_non_conv_data)\n",
    "_, p_value_dup = stats.ttest_ind(dup_conv_data, dup_non_conv_data)\n",
    "\n",
    "df_stat.at[\"p-value\", \"DEL_VUS_rares_size\"] = p_value_del\n",
    "df_stat.at[\"DIFF\", \"DEL_VUS_rares_size\"] = p_value_del < 0.05\n",
    "df_stat.at[\"p-value\", \"DUP_VUS_rares_size\"] = p_value_dup\n",
    "df_stat.at[\"DIFF\", \"DUP_VUS_rares_size\"] = p_value_dup < 0.05\n"
   ]
  },
  {
   "cell_type": "code",
   "execution_count": 319,
   "metadata": {},
   "outputs": [
    {
     "data": {
      "text/html": [
       "<div>\n",
       "<style scoped>\n",
       "    .dataframe tbody tr th:only-of-type {\n",
       "        vertical-align: middle;\n",
       "    }\n",
       "\n",
       "    .dataframe tbody tr th {\n",
       "        vertical-align: top;\n",
       "    }\n",
       "\n",
       "    .dataframe thead th {\n",
       "        text-align: right;\n",
       "    }\n",
       "</style>\n",
       "<table border=\"1\" class=\"dataframe\">\n",
       "  <thead>\n",
       "    <tr style=\"text-align: right;\">\n",
       "      <th></th>\n",
       "      <th>nb_DEL</th>\n",
       "      <th>nb_DUP</th>\n",
       "      <th>nb_DEL_patho</th>\n",
       "      <th>nb_DUP_patho</th>\n",
       "      <th>nb_DEL_VUS_rares</th>\n",
       "      <th>DEL_VUS_rares_size</th>\n",
       "      <th>nb_DEL_VUS_rares_size_&gt;_400kb</th>\n",
       "      <th>nb_DEL_VUS_rares_in_brain</th>\n",
       "      <th>nb_DUP_VUS_rares</th>\n",
       "      <th>DUP_VUS_rares_size</th>\n",
       "      <th>nb_DUP_VUS_rares_size_&gt;_400kb</th>\n",
       "      <th>nb_DUP_VUS_rares_in_brain</th>\n",
       "    </tr>\n",
       "  </thead>\n",
       "  <tbody>\n",
       "    <tr>\n",
       "      <th>FEP + CONV</th>\n",
       "      <td>6552.0</td>\n",
       "      <td>7381.0</td>\n",
       "      <td>4.0</td>\n",
       "      <td>0.0</td>\n",
       "      <td>370.0</td>\n",
       "      <td>56367.0</td>\n",
       "      <td>10.0</td>\n",
       "      <td>248.0</td>\n",
       "      <td>512.0</td>\n",
       "      <td>120151.0</td>\n",
       "      <td>34.0</td>\n",
       "      <td>398.0</td>\n",
       "    </tr>\n",
       "    <tr>\n",
       "      <th>NCONV</th>\n",
       "      <td>1444.0</td>\n",
       "      <td>1611.0</td>\n",
       "      <td>1.0</td>\n",
       "      <td>0.0</td>\n",
       "      <td>76.0</td>\n",
       "      <td>75747.0</td>\n",
       "      <td>3.0</td>\n",
       "      <td>45.0</td>\n",
       "      <td>135.0</td>\n",
       "      <td>1072063.0</td>\n",
       "      <td>52.0</td>\n",
       "      <td>110.0</td>\n",
       "    </tr>\n",
       "    <tr>\n",
       "      <th>p-value</th>\n",
       "      <td>0.808458</td>\n",
       "      <td>0.808458</td>\n",
       "      <td>0.906513</td>\n",
       "      <td>NaN</td>\n",
       "      <td>0.599267</td>\n",
       "      <td>0.354002</td>\n",
       "      <td>0.632374</td>\n",
       "      <td>0.237935</td>\n",
       "      <td>0.051608</td>\n",
       "      <td>0.0</td>\n",
       "      <td>0.0</td>\n",
       "      <td>0.028747</td>\n",
       "    </tr>\n",
       "    <tr>\n",
       "      <th>DIFF</th>\n",
       "      <td>False</td>\n",
       "      <td>False</td>\n",
       "      <td>False</td>\n",
       "      <td>False</td>\n",
       "      <td>False</td>\n",
       "      <td>False</td>\n",
       "      <td>False</td>\n",
       "      <td>False</td>\n",
       "      <td>False</td>\n",
       "      <td>True</td>\n",
       "      <td>True</td>\n",
       "      <td>True</td>\n",
       "    </tr>\n",
       "  </tbody>\n",
       "</table>\n",
       "</div>"
      ],
      "text/plain": [
       "              nb_DEL    nb_DUP nb_DEL_patho nb_DUP_patho nb_DEL_VUS_rares  \\\n",
       "FEP + CONV    6552.0    7381.0          4.0          0.0            370.0   \n",
       "NCONV         1444.0    1611.0          1.0          0.0             76.0   \n",
       "p-value     0.808458  0.808458     0.906513          NaN         0.599267   \n",
       "DIFF           False     False        False        False            False   \n",
       "\n",
       "           DEL_VUS_rares_size nb_DEL_VUS_rares_size_>_400kb  \\\n",
       "FEP + CONV            56367.0                          10.0   \n",
       "NCONV                 75747.0                           3.0   \n",
       "p-value              0.354002                      0.632374   \n",
       "DIFF                    False                         False   \n",
       "\n",
       "           nb_DEL_VUS_rares_in_brain nb_DUP_VUS_rares DUP_VUS_rares_size  \\\n",
       "FEP + CONV                     248.0            512.0           120151.0   \n",
       "NCONV                           45.0            135.0          1072063.0   \n",
       "p-value                     0.237935         0.051608                0.0   \n",
       "DIFF                           False            False               True   \n",
       "\n",
       "           nb_DUP_VUS_rares_size_>_400kb nb_DUP_VUS_rares_in_brain  \n",
       "FEP + CONV                          34.0                     398.0  \n",
       "NCONV                               52.0                     110.0  \n",
       "p-value                              0.0                  0.028747  \n",
       "DIFF                                True                      True  "
      ]
     },
     "execution_count": 319,
     "metadata": {},
     "output_type": "execute_result"
    }
   ],
   "source": [
    "df_stat.to_csv(\"results/stats.csv\")"
   ]
  },
  {
   "cell_type": "markdown",
   "metadata": {},
   "source": [
    "## Another stats for the table in article"
   ]
  },
  {
   "cell_type": "code",
   "execution_count": 325,
   "metadata": {},
   "outputs": [],
   "source": [
    "df = pd.read_csv(\"results/cnv_phenotypes.csv\")\n",
    "df.dropna(subset=[\"Protein_coding_genes\"], inplace=True)\n",
    "df.reset_index(drop=True, inplace=True)\n",
    "df[\"Start\"] = df[\"Start\"].astype(int)\n",
    "df[\"End\"] = df[\"End\"].astype(int)\n",
    "df[\"CNV_length\"] = df[\"End\"] - df[\"Start\"]\n",
    "\n",
    "converters = [\"FEP\", \"Converter\"]\n",
    "non_converters = [\"Non_converter\"]\n",
    "\n",
    "# Drop UHR and NUHR\n",
    "df = df[df[\"Phenotype\"].isin(converters + non_converters)]"
   ]
  },
  {
   "cell_type": "code",
   "execution_count": null,
   "metadata": {},
   "outputs": [],
   "source": []
  }
 ],
 "metadata": {
  "kernelspec": {
   "display_name": "everything",
   "language": "python",
   "name": "python3"
  },
  "language_info": {
   "codemirror_mode": {
    "name": "ipython",
    "version": 3
   },
   "file_extension": ".py",
   "mimetype": "text/x-python",
   "name": "python",
   "nbconvert_exporter": "python",
   "pygments_lexer": "ipython3",
   "version": "3.11.5"
  },
  "orig_nbformat": 4
 },
 "nbformat": 4,
 "nbformat_minor": 2
}
